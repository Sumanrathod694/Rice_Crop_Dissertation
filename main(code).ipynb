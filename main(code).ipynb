{
  "metadata": {
    "kernelspec": {
      "language": "python",
      "display_name": "Python 3",
      "name": "python3"
    },
    "language_info": {
      "name": "python",
      "version": "3.7.12",
      "mimetype": "text/x-python",
      "codemirror_mode": {
        "name": "ipython",
        "version": 3
      },
      "pygments_lexer": "ipython3",
      "nbconvert_exporter": "python",
      "file_extension": ".py"
    },
    "kaggle": {
      "accelerator": "gpu",
      "dataSources": [
        {
          "sourceId": 796736,
          "sourceType": "datasetVersion",
          "datasetId": 193945
        }
      ],
      "dockerImageVersionId": 30171,
      "isInternetEnabled": true,
      "language": "python",
      "sourceType": "notebook",
      "isGpuEnabled": true
    },
    "colab": {
      "provenance": []
    }
  },
  "nbformat_minor": 0,
  "nbformat": 4,
  "cells": [
    {
      "cell_type": "markdown",
      "source": [
        "# **DISSERTATION**"
      ],
      "metadata": {
        "id": "H2DiSLGF47a_"
      }
    },
    {
      "cell_type": "markdown",
      "source": [
        "## Project Title: Rice Disease Classification\n",
        "  **Hispa:**\n",
        "\n",
        "  Explanation: Rice Hispa is a common pest in rice fields. It is a type of leaf beetle that feeds on rice plants, causing damage to the leaves. The larvae and adults of the Hispa beetle can skeletonize the leaves, leading to a decrease in the plant's photosynthetic capacity and overall health. Pest management strategies are often implemented to control the population of Rice Hispa and minimize its impact on rice crops.\n",
        "\n",
        "  **Healthy:**\n",
        "\n",
        "  Explanation: This term simply indicates the desirable condition of rice plants. Healthy rice plants exhibit vigorous growth, with lush green leaves, strong stems, and well-developed panicles (flower clusters). Healthy plants are more resistant to diseases and pests, leading to better yields. Proper crop management practices, including nutrient management, pest control, and irrigation, contribute to maintaining the health of rice plants.\n",
        "\n",
        "  **Brown Spot:**\n",
        "  \n",
        "  Explanation: Brown Spot is a fungal disease that affects rice plants. The disease is caused by the fungus Bipolaris oryzae. It manifests as small, dark brown spots with yellow halos on the leaves. Severe infections can lead to reduced photosynthesis, yield loss, and poor grain quality. Disease-resistant rice varieties, crop rotation, and fungicide applications are some of the measures used to manage and control Brown Spot in rice fields.\n",
        "\n",
        "  **Leaf Blast:**\n",
        "  \n",
        "  Explanation: Rice Blast is one of the most destructive diseases affecting rice crops. It is caused by the fungus Magnaporthe oryzae. The disease can affect all above-ground parts of the rice plant, including leaves, nodes, and panicles. Infected plants show characteristic lesions with a blast-like appearance. Rice Blast can lead to significant yield losses if not properly managed. Planting resistant varieties, applying fungicides, and adopting cultural practices are common strategies for controlling Rice Blast."
      ],
      "metadata": {
        "id": "c6vUmzet47bA"
      }
    },
    {
      "cell_type": "code",
      "source": [
        "import sys, os, glob, progressbar, shutil\n",
        "from os import listdir\n",
        "from os import path\n",
        "from matplotlib.image import imread\n",
        "import numpy as np\n",
        "\n",
        "\n",
        "root_dir_path = '../input/rice-diseases-image-dataset/LabelledRice/Labelled'"
      ],
      "metadata": {
        "execution": {
          "iopub.status.busy": "2023-12-02T13:41:12.260575Z",
          "iopub.execute_input": "2023-12-02T13:41:12.261273Z",
          "iopub.status.idle": "2023-12-02T13:41:12.269160Z",
          "shell.execute_reply.started": "2023-12-02T13:41:12.261232Z",
          "shell.execute_reply": "2023-12-02T13:41:12.268275Z"
        },
        "trusted": true,
        "id": "A5daC_cp47bB"
      },
      "execution_count": null,
      "outputs": []
    },
    {
      "cell_type": "markdown",
      "source": [
        "### Data Understanding & Statistics"
      ],
      "metadata": {
        "id": "4EbFbsnO47bB"
      }
    },
    {
      "cell_type": "code",
      "source": [
        "def load_data(root_dir_name):\n",
        "    # Initialize empty lists to store image paths and corresponding labels\n",
        "    img_paths = []\n",
        "    labels = []\n",
        "\n",
        "    # Get a list of class names (subdirectories) in the specified root directory\n",
        "    class_names = listdir(root_dir_name)\n",
        "\n",
        "    # Iterate over each class in the dataset\n",
        "    for class_name in class_names:\n",
        "        # Construct the full path of the current class directory\n",
        "        class_path = path.join(root_dir_name, class_name)\n",
        "\n",
        "        # Get a list of image names in the current class directory\n",
        "        img_names = listdir(f\"{root_dir_name}/{class_name}\")\n",
        "\n",
        "        # Iterate over each image in the current class\n",
        "        for img_name in img_names:\n",
        "            # Construct the full path of the current image\n",
        "            img_path = path.join(root_dir_name, class_name, img_name)\n",
        "\n",
        "            # Check if the image file has a \".jpg\" or \".JPG\" extension\n",
        "            if img_path.endswith(\".jpg\") == True or img_path.endswith(\".JPG\") == True:\n",
        "                # If the image has a valid extension, append its path to the list\n",
        "                img_paths.append(img_path)\n",
        "\n",
        "                # Append the corresponding label (class name) to the labels list\n",
        "                labels.append(class_name)\n",
        "\n",
        "    # Return the lists of image paths and labels\n",
        "    return img_paths, labels\n",
        "\n",
        "# Loading data\n",
        "img_paths, labels = load_data(root_dir_path)"
      ],
      "metadata": {
        "execution": {
          "iopub.status.busy": "2023-12-02T07:39:05.736966Z",
          "iopub.execute_input": "2023-12-02T07:39:05.737611Z",
          "iopub.status.idle": "2023-12-02T07:39:05.765361Z",
          "shell.execute_reply.started": "2023-12-02T07:39:05.737576Z",
          "shell.execute_reply": "2023-12-02T07:39:05.764757Z"
        },
        "trusted": true,
        "id": "G9Sl2k6j47bC"
      },
      "execution_count": null,
      "outputs": []
    },
    {
      "cell_type": "markdown",
      "source": [
        "* Labels analysis"
      ],
      "metadata": {
        "id": "TUvC-MRt47bC"
      }
    },
    {
      "cell_type": "code",
      "source": [
        "print(\"Number of samples in the dataset: \", len(img_paths))\n",
        "print(\"Labels: \",set(labels))"
      ],
      "metadata": {
        "execution": {
          "iopub.status.busy": "2023-12-02T07:39:06.094610Z",
          "iopub.execute_input": "2023-12-02T07:39:06.095336Z",
          "iopub.status.idle": "2023-12-02T07:39:06.100573Z",
          "shell.execute_reply.started": "2023-12-02T07:39:06.095298Z",
          "shell.execute_reply": "2023-12-02T07:39:06.099682Z"
        },
        "trusted": true,
        "id": "jusWLCwA47bC",
        "outputId": "72c6e729-c3f3-48e4-cf14-c7c288ebed88"
      },
      "execution_count": null,
      "outputs": [
        {
          "name": "stdout",
          "text": "Number of samples in the dataset:  3355\nLabels:  {'Healthy', 'Hispa', 'LeafBlast', 'BrownSpot'}\n",
          "output_type": "stream"
        }
      ]
    },
    {
      "cell_type": "code",
      "source": [
        "label_counts = Counter(labels)\n",
        "\n",
        "# Define light colors for the pie chart\n",
        "light_colors = ['#FFDDC1', '#FFABAB', '#FFC3A0', '#FF677D', '#D4A5A5', '#392F5A', '#31A2AC', '#61C0BF']\n",
        "\n",
        "# Plot the pie chart with light colors\n",
        "plt.pie(label_counts.values(), labels=label_counts.keys(), autopct='%1.1f%%', startangle=140, colors=light_colors)\n",
        "plt.axis('equal')  # Equal aspect ratio ensures that the pie is drawn as a circle.\n",
        "\n",
        "plt.show()"
      ],
      "metadata": {
        "execution": {
          "iopub.status.busy": "2023-12-02T07:39:06.403037Z",
          "iopub.execute_input": "2023-12-02T07:39:06.403333Z",
          "iopub.status.idle": "2023-12-02T07:39:06.514950Z",
          "shell.execute_reply.started": "2023-12-02T07:39:06.403293Z",
          "shell.execute_reply": "2023-12-02T07:39:06.514189Z"
        },
        "trusted": true,
        "id": "__Dyo3Q_47bD",
        "outputId": "694cb00e-01a2-482d-84e3-500c0f41f57a"
      },
      "execution_count": null,
      "outputs": [
        {
          "output_type": "display_data",
          "data": {
            "text/plain": "<Figure size 432x288 with 1 Axes>",
            "image/png": "[encoded data removed]"
          },
          "metadata": {}
        }
      ]
    },
    {
      "cell_type": "code",
      "source": [
        "label_counts"
      ],
      "metadata": {
        "execution": {
          "iopub.status.busy": "2023-12-02T07:39:06.766657Z",
          "iopub.execute_input": "2023-12-02T07:39:06.766974Z",
          "iopub.status.idle": "2023-12-02T07:39:06.772404Z",
          "shell.execute_reply.started": "2023-12-02T07:39:06.766940Z",
          "shell.execute_reply": "2023-12-02T07:39:06.771645Z"
        },
        "trusted": true,
        "id": "Lcrg9Y1W47bE",
        "outputId": "99ebe025-7075-4553-8470-54f1cfc3b7db"
      },
      "execution_count": null,
      "outputs": [
        {
          "execution_count": 37,
          "output_type": "execute_result",
          "data": {
            "text/plain": "Counter({'Hispa': 565, 'Healthy': 1488, 'BrownSpot': 523, 'LeafBlast': 779})"
          },
          "metadata": {}
        }
      ]
    },
    {
      "cell_type": "markdown",
      "source": [
        "The provided dataset consists of labeled instances, where each instance belongs to one of four classes. The classes and their respective counts are as follows:\n",
        "\n",
        "    Healthy: 1488 instances\n",
        "        This class likely represents instances in a healthy or normal state, free from any visible diseases or abnormalities.\n",
        "\n",
        "    Hispa: 565 instances\n",
        "        This class represents instances affected by a condition referred to as \"Hispa.\" Without additional context, it's not clear what specific disease or issue this label corresponds to.\n",
        "\n",
        "    BrownSpot: 523 instances\n",
        "        This class indicates instances affected by a condition known as \"BrownSpot.\" Again, without more information, the specific nature of this condition is not apparent.\n",
        "\n",
        "    LeafBlast: 779 instances\n",
        "        Instances in this class are likely affected by a condition referred to as \"LeafBlast.\" Similar to the other classes, further details about the characteristics of LeafBlast would be needed for a more comprehensive understanding."
      ],
      "metadata": {
        "id": "AEsVjF2f47bF"
      }
    },
    {
      "cell_type": "code",
      "source": [],
      "metadata": {
        "id": "IRmLgFwIGKl2"
      },
      "execution_count": null,
      "outputs": []
    }
  ]
}